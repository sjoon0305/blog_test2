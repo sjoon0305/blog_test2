{
  "cells": [
    {
      "cell_type": "raw",
      "metadata": {},
      "source": [
        "---\n",
        "title: \"Welcome To My Blog\"\n",
        "author: \"Tristan O'Malley\"\n",
        "date: \"2023-12-31\"\n",
        "categories: [news]\n",
        "---"
      ],
      "id": "3a02d30f"
    },
    {
      "cell_type": "markdown",
      "metadata": {},
      "source": [
        "This is the first post in a Quarto blog. Welcome!\n",
        "\n",
        "![](thumbnail.jpg)\n",
        "\n",
        "Since this post doesn't specify an explicit `image`, the first image in the post will be used in the listing page of posts.\n",
        "\n",
        "'-' 회귀분석 공부해보자\n",
        "\n",
        "'-' 코드삽입\n"
      ],
      "id": "3cfb04e4"
    },
    {
      "cell_type": "code",
      "metadata": {},
      "source": [
        "a = [1,2,4]\n",
        "a + [3]"
      ],
      "id": "b661256e",
      "execution_count": null,
      "outputs": []
    },
    {
      "cell_type": "code",
      "metadata": {},
      "source": [
        "!python --version"
      ],
      "id": "492e7a11",
      "execution_count": null,
      "outputs": []
    },
    {
      "cell_type": "code",
      "metadata": {},
      "source": [
        "a <- [1,2,4]\n",
        "a + [3]"
      ],
      "id": "2abb0e20",
      "execution_count": null,
      "outputs": []
    }
  ],
  "metadata": {
    "kernelspec": {
      "name": "python3",
      "language": "python",
      "display_name": "Python 3 (ipykernel)"
    }
  },
  "nbformat": 4,
  "nbformat_minor": 5
}