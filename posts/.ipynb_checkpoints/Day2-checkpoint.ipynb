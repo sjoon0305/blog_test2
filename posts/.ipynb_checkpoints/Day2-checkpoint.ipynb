{
 "cells": [
  {
   "cell_type": "raw",
   "id": "38f4278c-872f-4d67-afdd-e509c9427af0",
   "metadata": {},
   "source": [
    "---\n",
    "title: \"나의 블로그 만들기 도전기 Day2\"\n",
    "author: \"유성준\"\n",
    "date: \"01/09/2024\"\n",
    "categories: [Quarto]\n",
    "---\n",
    "![](quarto_ex.png)"
   ]
  },
  {
   "cell_type": "markdown",
   "id": "f15dd699-fb56-42b4-9ecc-a6874fbd762d",
   "metadata": {},
   "source": [
    "## 1. 나만의 쥬피터랩 서버에서 블로그 수정하기"
   ]
  },
  {
   "cell_type": "markdown",
   "id": "32704b60-a455-445f-9deb-402c6480b0be",
   "metadata": {},
   "source": [
    "- git config credential.helper store\n",
    "- git add .\n",
    "- git commit -m .\n",
    "- git push​"
   ]
  },
  {
   "cell_type": "markdown",
   "id": "6a5456c7-f48e-4318-9750-7af08532afc5",
   "metadata": {},
   "source": [
    "quarto render 를 쓸것인가 아니면 quarto publish를 쓸것인가?"
   ]
  },
  {
   "cell_type": "markdown",
   "id": "0613eccc-45bc-4c1c-83bd-35432e14be78",
   "metadata": {},
   "source": [
    "*-* 그것이 문제로다"
   ]
  }
 ],
 "metadata": {
  "kernelspec": {
   "display_name": "Python 3 (ipykernel)",
   "language": "python",
   "name": "python3"
  },
  "language_info": {
   "codemirror_mode": {
    "name": "ipython",
    "version": 3
   },
   "file_extension": ".py",
   "mimetype": "text/x-python",
   "name": "python",
   "nbconvert_exporter": "python",
   "pygments_lexer": "ipython3",
   "version": "3.10.13"
  }
 },
 "nbformat": 4,
 "nbformat_minor": 5
}
