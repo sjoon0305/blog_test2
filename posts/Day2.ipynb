{
 "cells": [
  {
   "cell_type": "raw",
   "id": "38f4278c-872f-4d67-afdd-e509c9427af0",
   "metadata": {},
   "source": [
    "---\n",
    "title: \"나의 블로그 만들기 도전기 Day2-총정리\"\n",
    "author: \"유성준\"\n",
    "date: \"01/09/2024\"\n",
    "categories: [Quarto]\n",
    "---\n",
    "![](quarto_ex.png)"
   ]
  },
  {
   "cell_type": "markdown",
   "id": "c1c5bb3d-53a9-4f5f-8ced-7df53ec859e5",
   "metadata": {},
   "source": [
    "`-` 우선 터미널에서 나의 가상 환경 열기"
   ]
  },
  {
   "cell_type": "markdown",
   "id": "824a4e0d-59d8-4c3d-8026-33d5e9830538",
   "metadata": {},
   "source": [
    "```bash\n",
    "ssh root@210.117.173.186 -p 10648\n",
    "passwd  # 가상환경 접속 후 이 코드로 비밀번호를 바꿀 수 있다.​\n",
    "```"
   ]
  },
  {
   "cell_type": "markdown",
   "id": "f15dd699-fb56-42b4-9ecc-a6874fbd762d",
   "metadata": {},
   "source": [
    "## 1. 나만의 쥬피터랩 서버에서 블로그 수정하기"
   ]
  },
  {
   "cell_type": "markdown",
   "id": "ef7e7d17-620a-4d46-95c9-267072671e5b",
   "metadata": {},
   "source": [
    "- 처음 블로그를 만들때 해당 레포지토리를 열고"
   ]
  },
  {
   "cell_type": "markdown",
   "id": "389cd1ea-fdaf-4629-b373-31896a57949d",
   "metadata": {},
   "source": [
    "```bash\n",
    "quarto create-project --type website:blog \n",
    "git add .\n",
    "git commit -m .\n",
    "git push\n",
    "quarto publish gh-pages\n",
    "```"
   ]
  },
  {
   "cell_type": "markdown",
   "id": "6a5456c7-f48e-4318-9750-7af08532afc5",
   "metadata": {},
   "source": [
    "- 변경사항 업데이트"
   ]
  },
  {
   "cell_type": "markdown",
   "id": "72bb438b-a778-47fa-8fda-4356f5a48fb5",
   "metadata": {},
   "source": [
    "```bash\n",
    "git config credential.helper store\n",
    "git add .\n",
    "git commit -m .\n",
    "git push\n",
    "quarto publish --no-browser --no-prompt\n",
    "```"
   ]
  },
  {
   "cell_type": "markdown",
   "id": "0613eccc-45bc-4c1c-83bd-35432e14be78",
   "metadata": {},
   "source": [
    "*-* https://sjoon0305.github.io/blog_test2/"
   ]
  },
  {
   "cell_type": "markdown",
   "id": "ce8a5199-77fb-41da-8dc9-0d79821eb962",
   "metadata": {},
   "source": [
    "## 2. 새로운 가상 환경 만들기"
   ]
  },
  {
   "cell_type": "markdown",
   "id": "77950786-2c82-43a4-910e-c4a60a10f819",
   "metadata": {},
   "source": [
    "```bash\n",
    "conda create py310 python=3.10 # 가상환경생성 \n",
    "conda activate py310 # 가상환경 활성화 \n",
    "conda install -c conda-forge jupyterlab # 주피터랩설치\n",
    "conda install -c conda-forge notebook # 노트북설치 \n",
    "```"
   ]
  },
  {
   "cell_type": "markdown",
   "id": "f8beecd8-305f-4a60-8d0a-02bdd649330d",
   "metadata": {},
   "source": [
    "## 3. 불사의 쥬피터 만들기"
   ]
  },
  {
   "cell_type": "markdown",
   "id": "01726aa8-d220-4ee6-99b1-8199bb2981f5",
   "metadata": {},
   "source": [
    "- jupyter_notebook_config.py 파일을연다(이건 초기설정, 딱 한번만 하면된다)\n",
    "- 없다면 아래처럼 만든다"
   ]
  },
  {
   "cell_type": "markdown",
   "id": "8fccc6a5-acba-458d-8128-4f73fdf251b4",
   "metadata": {},
   "source": [
    "```bash\n",
    "jupyter notebook --generate-config\n",
    "```"
   ]
  },
  {
   "cell_type": "markdown",
   "id": "138215fd-0e6a-4134-a9cf-bdd8db86d3db",
   "metadata": {},
   "source": [
    "- 아래와 같이 설정"
   ]
  },
  {
   "cell_type": "markdown",
   "id": "3b58ae1e-5826-47f6-b854-b8db085a76e4",
   "metadata": {},
   "source": [
    "```bash\n",
    "c.NotebookApp.ip = '0.0.0.0'\n",
    "c.NotebookApp.port = 8888 # 8888아니구요. 본인이 쓸수 있는 포트중에서 좋아하는거 쓰세여 \n",
    "c.NotebookApp.allow_root = True \n",
    "c.NotebookApp.allow_remote_access = True # 당장필요한건 아닌데요.. 해놓으세여 \n",
    "```"
   ]
  },
  {
   "cell_type": "markdown",
   "id": "bb054940-dacd-442d-9717-145480e2db2f",
   "metadata": {},
   "source": [
    "`-` base에서 실행하지 않고 특정 env에서 실행한다!! base 에서 하면 컴퓨터가 맛감"
   ]
  },
  {
   "cell_type": "markdown",
   "id": "dce64050-0dfc-45af-88f5-0624f023d55e",
   "metadata": {},
   "source": [
    "```bash\n",
    "conda activate py310\n",
    "```"
   ]
  },
  {
   "cell_type": "markdown",
   "id": "ad550b9e-f94d-4946-91a2-d0876c9a304b",
   "metadata": {},
   "source": [
    "```bash\n",
    "jupyter notebook password # 쥬피터랩 비밀번호 설정\n",
    "nohup jupyter lab --ip=\"0.0.0.0\" --port=20648 --allow-root > /dev/null 2>&1 &\n",
    "jupyter lab --ip='0.0.0.0' --port=20648 --no-browser --allow-root  & # 이건 불사의 쥬피터까지는 아님..\n",
    "```"
   ]
  },
  {
   "cell_type": "markdown",
   "id": "2a26458b-1685-486f-a38a-cf8d25890561",
   "metadata": {},
   "source": [
    "`-` 포트는 가상환경이 10648 사용하고 있으니 쥬피터는 20648, 30648, 40648 사용"
   ]
  },
  {
   "cell_type": "markdown",
   "id": "3ad3da85-d282-4730-97e8-5d2c5fbf3f0e",
   "metadata": {},
   "source": [
    "- http://210.117.173.186:20648/lab"
   ]
  },
  {
   "cell_type": "markdown",
   "id": "074ffede-ec3b-4206-a221-98516e274990",
   "metadata": {},
   "source": [
    "## 4. 포트 확인하고 죽이기"
   ]
  },
  {
   "cell_type": "markdown",
   "id": "1e8419ec-56db-459f-82d8-9f9c762d1ee0",
   "metadata": {},
   "source": [
    "### 1. 포트 확인"
   ]
  },
  {
   "cell_type": "markdown",
   "id": "7fb26b17-99c5-4360-8dc4-1f8f12d34f2b",
   "metadata": {},
   "source": [
    "```bash\n",
    "apt-get install lsof\r\n",
    "apt install lsof\n",
    "```"
   ]
  },
  {
   "cell_type": "markdown",
   "id": "6549da7c-d6bd-459a-98ce-1d44eb7ec214",
   "metadata": {},
   "source": [
    "```bash\n",
    "lsof -i :23052   # 1번 방법(해당 포트를 사용하고 있는지 확인)\n",
    "\n",
    "ps aux | grep jupyter # 2번 방법(쓰고 있는 모든 포트를 확인)\n",
    "```"
   ]
  },
  {
   "cell_type": "markdown",
   "id": "e270e002-aa4d-4212-9598-b722c3eee18e",
   "metadata": {},
   "source": [
    "### 2. 포트 죽이기"
   ]
  },
  {
   "cell_type": "markdown",
   "id": "48b13a8d-7692-4838-af5b-3a016c136d38",
   "metadata": {},
   "source": [
    "```bash\n",
    "kill 862165\n",
    "```"
   ]
  },
  {
   "cell_type": "markdown",
   "id": "ec450d0f-d688-4068-8169-850d1332b4e3",
   "metadata": {},
   "source": [
    "`-` 앞으로 마크다운 수식과 문법 정리, 블로그 꾸미기 등등 여러가지를 해보자"
   ]
  }
 ],
 "metadata": {
  "kernelspec": {
   "display_name": "Python 3 (ipykernel)",
   "language": "python",
   "name": "python3"
  },
  "language_info": {
   "codemirror_mode": {
    "name": "ipython",
    "version": 3
   },
   "file_extension": ".py",
   "mimetype": "text/x-python",
   "name": "python",
   "nbconvert_exporter": "python",
   "pygments_lexer": "ipython3",
   "version": "3.10.13"
  }
 },
 "nbformat": 4,
 "nbformat_minor": 5
}
