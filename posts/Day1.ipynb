{
 "cells": [
  {
   "cell_type": "raw",
   "metadata": {},
   "source": [
    "---\n",
    "title: \"나의 블로그 만들기 도전기 Day1\"\n",
    "author: \"유성준\"\n",
    "date: \"01/03/2024\"\n",
    "categories: [Quarto]\n",
    "---\n",
    "![](quarto_ex.png)"
   ]
  },
  {
   "cell_type": "markdown",
   "metadata": {},
   "source": [
    "## 1. Github의 파일 수정하기"
   ]
  },
  {
   "cell_type": "markdown",
   "metadata": {},
   "source": [
    "깃헙에서 gitprac 레지스토리 생성"
   ]
  },
  {
   "cell_type": "markdown",
   "metadata": {},
   "source": [
    "**1-1.윈도우 터미널에서 파일 수정**"
   ]
  },
  {
   "cell_type": "markdown",
   "metadata": {},
   "source": [
    "- git clone https://github.com/sjoon0305/gitprac.git\n",
    "- cd gitprac # 가져온 레지스토리 폴더를 열어 준 뒤, readme 파일이나 다른 파일을 수정한다.\n",
    "- git config --global user.email \"you@example.com\"\n",
    "- git config --global user.name \"Your Name\" # 이 두 코드로 나를 인식\n",
    "\n",
    "- git add .\n",
    "- git commit -m .\n",
    "- git push # 처음에 윈도우에서 깃헙 로그인 창이 뜬다"
   ]
  },
  {
   "cell_type": "markdown",
   "metadata": {},
   "source": [
    "**1-2. Github의 codespaces의 terminal에서 직접 수정**"
   ]
  },
  {
   "cell_type": "markdown",
   "metadata": {},
   "source": [
    "- 코드스페이스에서 파일을 직접 열어서 수정한다\n",
    "- mkdir,ls 등등 사용\n",
    "- rm -rf 폴더명 # 폴더와 안에 있는 파일들까지 모두 삭제\n",
    "- rm test.txt # 일반 파일 삭제\n",
    "    - git add .\n",
    "    - git commit -m .\n",
    "    - git push\n"
   ]
  },
  {
   "cell_type": "markdown",
   "metadata": {},
   "source": [
    "## 2. 메모장"
   ]
  },
  {
   "cell_type": "markdown",
   "metadata": {},
   "source": [
    "- 터미널에서 vi는 메모장을 의미\n",
    "- vi ttt.txt # 없으면 새로 만들고 있으면 기존의 파일을 연다"
   ]
  },
  {
   "cell_type": "markdown",
   "metadata": {},
   "source": [
    "명령어"
   ]
  },
  {
   "cell_type": "markdown",
   "metadata": {},
   "source": [
    "- i # 메모를 수정한다\n",
    "- esc # 수정하고 있는것을 나가기\n",
    "- :w  저장\n",
    "- :q  나가기\n",
    "- :wq 가능\n",
    "- e,b 좌우 이동\n",
    "- /찾을단어 # ctrl F 기능 n과 shift n으로 이동이 가능하다"
   ]
  },
  {
   "cell_type": "markdown",
   "metadata": {},
   "source": [
    "## 3. 원격접속"
   ]
  },
  {
   "cell_type": "markdown",
   "metadata": {},
   "source": [
    "- 기본 터미널에서 시작\n",
    "- ssh username@ip주소\n",
    "- ex) ssh toolbox@210.117.173.182\n",
    "- pass:jbnu # 입력이 보이지 않는다\n",
    "- cd, vi 등등을 이용하여 터미널에서 메모를 수정한다\n",
    "- 원격접속 나가기: crtl+D"
   ]
  },
  {
   "cell_type": "markdown",
   "metadata": {},
   "source": [
    "## 4. 블로그 생성! 엄청 어려워 보이지만 사실 할만할지도..?"
   ]
  },
  {
   "cell_type": "markdown",
   "metadata": {},
   "source": [
    "**4-1. 윈도우 터미널**"
   ]
  },
  {
   "cell_type": "markdown",
   "metadata": {},
   "source": [
    "1. 우선 윈도우에 쿼토를 다운로드\n",
    "2. clone을 할 레지스토리 생성 후 불러오기\n",
    "3. 해당 레지스토리의 파일 연다(cd blog_test)"
   ]
  },
  {
   "cell_type": "markdown",
   "metadata": {},
   "source": [
    "- quarto create-project --type website:blog\n",
    "- git add .\n",
    "- git commit -m .\n",
    "- git push\n",
    "- quarto publish gh-pages"
   ]
  },
  {
   "cell_type": "markdown",
   "metadata": {},
   "source": [
    "**4-2. 해당 레지스토리의 codespaces**"
   ]
  },
  {
   "cell_type": "markdown",
   "metadata": {},
   "source": [
    "1. 우선 위에 검색창에서 >jupyter lab으로 파이썬 파일 만들기\n",
    "2. 파이썬 확장 설치하기\n",
    "3. 추천 확장 python+jupyter\n",
    "4. 파이썬 커널 선택\n",
    "5. ipynb 파일을 posts 폴더에 넣어주고 raw, 마크다운과 Python 셀을 만들어가며 블로그를 꾸민다."
   ]
  },
  {
   "cell_type": "markdown",
   "metadata": {},
   "source": [
    "코드스페이스에서는 쿼토가 다운되지 않은 상태이므로 코드를 불러와 쿼토를 다운로드한다."
   ]
  },
  {
   "cell_type": "markdown",
   "metadata": {},
   "source": [
    "- pip install git+https://github.com/quarto-dev/quarto-cli\n",
    "- 참고 url: [Quarto 홈페이지](https://quarto.org/docs/dashboards/)"
   ]
  },
  {
   "cell_type": "markdown",
   "metadata": {},
   "source": [
    "수정된 파일 내보내기(블로그를 만드는 것이기에 시간이 조금 걸린다. action에서 확인 가능)"
   ]
  },
  {
   "cell_type": "markdown",
   "metadata": {},
   "source": [
    "- git add .\n",
    "- git commit -m .\n",
    "- git push\n",
    "- quarto publish - -no-browser - -no-prompt"
   ]
  },
  {
   "cell_type": "markdown",
   "metadata": {},
   "source": [
    "## 5. 주의할 점과 궁금한 점"
   ]
  },
  {
   "cell_type": "markdown",
   "metadata": {},
   "source": [
    "- 기존의 codespace를 쓰면 번거로움이 덜하다(쿼토 다운로드, 확장설치, 커널 선택 등을 다시할 필요가 없다)\n",
    "- 하지만 만약 레지스토리의 파일이 변경 됐을때는 변경된 파일을 불러오지 못한다 이건 어떻게 해결해야지?\n",
    "- codespaces에서 그림을 가져오는 방법을 찾지 못해 윈도우에서 클론을 한뒤 그림 파일을 폴더에 첨부해서 가져왔다. 그럼 codespace에서 그림을 가져올 수 있을까?\n",
    "- 기존 코드 스페이스에서는 수정된 파일을 읽지 못했는데 이때 클론을 써야할까?\n",
    "- 윈도우 터미널에서는 파일이 변경 돼서 클론을 불러올때 기존의 폴더가 있으면 불러오지 못한다 파일을 삭제후 클론을 불러와야한다."
   ]
  },
  {
   "cell_type": "code",
   "execution_count": 2,
   "metadata": {},
   "outputs": [
    {
     "data": {
      "text/plain": [
       "[1, 2, 3, 5]"
      ]
     },
     "execution_count": 2,
     "metadata": {},
     "output_type": "execute_result"
    }
   ],
   "source": [
    "a=[1,2,3]\n",
    "a+[5]"
   ]
  }
 ],
 "metadata": {
  "kernelspec": {
   "display_name": "Python 3",
   "language": "python",
   "name": "python3"
  },
  "language_info": {
   "codemirror_mode": {
    "name": "ipython",
    "version": 3
   },
   "file_extension": ".py",
   "mimetype": "text/x-python",
   "name": "python",
   "nbconvert_exporter": "python",
   "pygments_lexer": "ipython3",
   "version": "3.10.13"
  }
 },
 "nbformat": 4,
 "nbformat_minor": 2
}
